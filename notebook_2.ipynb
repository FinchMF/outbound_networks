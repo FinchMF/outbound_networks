{
 "cells": [
  {
   "cell_type": "markdown",
   "metadata": {},
   "source": [
    "### Basic Article Enrichment and Relationship Stucture"
   ]
  },
  {
   "cell_type": "code",
   "execution_count": 1,
   "metadata": {},
   "outputs": [],
   "source": [
    "import re\n",
    "import networkx as nx\n",
    "import matplotlib.colors as clr\n",
    "from utils.graph import Graph_Viz_Engine\n",
    "from utils.io import read_in\n"
   ]
  },
  {
   "cell_type": "code",
   "execution_count": 2,
   "metadata": {},
   "outputs": [],
   "source": [
    "article_relations = './data/outbound-requests-by-domain-2.json'\n",
    "relations = read_in(article_relations)"
   ]
  },
  {
   "cell_type": "code",
   "execution_count": 3,
   "metadata": {},
   "outputs": [],
   "source": [
    "def extract_domain(url: str) -> str:\n",
    "    \n",
    "    pattern = r\"(((([A-Za-z0-9]+){1,63}\\.)|(([A-Za-z0-9]+(\\-)+[A-Za-z0-9]+){1,63}\\.))+){1,255}\"\n",
    "    domain = re.search(pattern, url)\n",
    "\n",
    "    return domain.group().replace('www', '').replace('.', '')"
   ]
  },
  {
   "cell_type": "code",
   "execution_count": 4,
   "metadata": {},
   "outputs": [],
   "source": [
    "n_relations = {}\n",
    "\n",
    "for idx, key in enumerate(relations.keys()):\n",
    "    n_key= extract_domain(key)\n",
    "\n",
    "    n_relations[n_key] = relations[key]"
   ]
  },
  {
   "cell_type": "code",
   "execution_count": 5,
   "metadata": {},
   "outputs": [],
   "source": [
    "t_blob = n_relations['nytimes']['content']"
   ]
  },
  {
   "cell_type": "code",
   "execution_count": 6,
   "metadata": {},
   "outputs": [],
   "source": [
    "# analyze these text together and make a graph"
   ]
  },
  {
   "cell_type": "code",
   "execution_count": 31,
   "metadata": {},
   "outputs": [],
   "source": [
    "from textblob import TextBlob\n",
    "from textblob import Word\n",
    "from utils.stopwords import stopwords\n",
    "from string import punctuation\n"
   ]
  },
  {
   "cell_type": "code",
   "execution_count": 8,
   "metadata": {},
   "outputs": [],
   "source": [
    "nyt_blob = TextBlob(t_blob)\n"
   ]
  },
  {
   "cell_type": "code",
   "execution_count": null,
   "metadata": {},
   "outputs": [],
   "source": [
    "stopwords(additional=punctuation.split())"
   ]
  },
  {
   "cell_type": "code",
   "execution_count": 9,
   "metadata": {},
   "outputs": [],
   "source": [
    "polarities = []\n",
    "\n",
    "for sentence in nyt_blob.sentences:\n",
    "    polarities.append(sentence.sentiment.polarity)\n",
    "\n",
    "avg_polarity_of_sentences = sum(polarities) / len(polarities)"
   ]
  },
  {
   "cell_type": "code",
   "execution_count": 35,
   "metadata": {},
   "outputs": [],
   "source": [
    "filtered_words = [ word for word in sorted(nyt_blob.word_counts, key=nyt_blob.word_counts.get, reverse=True) if word not in stopwords(additional=[p for p in punctuation]) and len(word) >= 3]"
   ]
  },
  {
   "cell_type": "code",
   "execution_count": 36,
   "metadata": {},
   "outputs": [],
   "source": [
    "filtered_words_scored = [(word, nyt_blob.words.count(word)) for word in filtered_words]"
   ]
  },
  {
   "cell_type": "code",
   "execution_count": 50,
   "metadata": {},
   "outputs": [],
   "source": [
    "reduced_raw = [word for word in nyt_blob.raw.split() if word in filtered_words]"
   ]
  },
  {
   "cell_type": "code",
   "execution_count": 52,
   "metadata": {},
   "outputs": [
    {
     "data": {
      "text/plain": [
       "'brazen car bombing suburb killed daughter prominent backer invasion injected uncertainty six-month war rattled authorities begun murder investigation killing hawkish political commentator daughter philosopher long leading proponent imperialist urging escalate assault television car occurred evening highway shattered windows nearby houses affluent intended target ended killing daughter car news evidence attack connected war associates claimed adviser country played role televised comments criminal terrorist deep commitment original produced global staff 1,700 journalists dedicated helping understand work support hope rare attack member elite reminiscent fiery assassinations chaotic 1990s potential upend efforts pursue war maintaining sense normalcy wake number attacks deep peninsula ardent cheerleaders calling launch assault undated speaking ultranationalist imperialist calls escalation grew louder suggesting attack underestimating strength enemy nationalist wrote social posted photo wearing military camouflage jacket tied met nationalist festival drove died scene bomb planted vehicle absence hard speculation critics attack carried proponents war galvanize support redoubled military wondered intended silence plodding gains eastern defiance weekend rolling captured destroyed military equipment central vehicles display attack spotlight ultranationalist increasingly visible social media soft forces advancing popular hawkish commentators faster aggressively striking government buildings central declaring broad military happened capital television wrote social media killing location understand buildings standing military threatened strike retaliate attacks considers good calls vengeance underscored fervent supporters invasion inconvenient allies leader chooses escalate ideologized people political expert advised early years rule based relationship men opaque analysts long visible proponents idea imperial helm civilization locked existential conflict ultranationalist fringe occupied years moved closer political echoed philosophy declared start invasion fighting social media attack win war society war wrote radio raft worked commentator combined imperialist views jargon-laden political played role building ties days argued television talk man lives dream dream global delivered lecture maps role network-centric describing atrocities committed soldiers interview broadcaster hours cited theories scholars war inevitable clash liberal liberal describing fighting unidentified bodies interred mass burial government imposed sanctions citing high-profile contributor disinformation relation invasion online imposed sanctions describing chief editor disinformation website owned oligarch author forthcoming book war titled identifying markings painted invading traveled port city forces captured brutal told state-run radio station steel defenders filled assassination attempts critics common poisoning opposition leader 2020 high-profile supporters rarely attack brazen blast occurred close glittering suburb sprawling villas ruling political wrote social terror message contributed'"
      ]
     },
     "execution_count": 52,
     "metadata": {},
     "output_type": "execute_result"
    }
   ],
   "source": [
    "' '.join(reduced_raw)"
   ]
  },
  {
   "cell_type": "code",
   "execution_count": null,
   "metadata": {},
   "outputs": [],
   "source": []
  }
 ],
 "metadata": {
  "kernelspec": {
   "display_name": "Python 3.9.13 ('env': venv)",
   "language": "python",
   "name": "python3"
  },
  "language_info": {
   "codemirror_mode": {
    "name": "ipython",
    "version": 3
   },
   "file_extension": ".py",
   "mimetype": "text/x-python",
   "name": "python",
   "nbconvert_exporter": "python",
   "pygments_lexer": "ipython3",
   "version": "3.9.13"
  },
  "orig_nbformat": 4,
  "vscode": {
   "interpreter": {
    "hash": "e9a9e12beaeda0461490307ec4ef9a5fdd931464a1d9a53272427629c191d3cf"
   }
  }
 },
 "nbformat": 4,
 "nbformat_minor": 2
}
