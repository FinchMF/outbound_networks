{
 "cells": [
  {
   "cell_type": "code",
   "execution_count": 1,
   "metadata": {},
   "outputs": [],
   "source": [
    "import json"
   ]
  },
  {
   "cell_type": "code",
   "execution_count": 2,
   "metadata": {},
   "outputs": [],
   "source": [
    "data = './data/outbound-requests-by-domain-2.json'\n",
    "\n",
    "with open(data, 'rb') as f:\n",
    "    data = json.load(f)"
   ]
  },
  {
   "cell_type": "code",
   "execution_count": 7,
   "metadata": {},
   "outputs": [],
   "source": [
    "article = list(data.keys())[0]"
   ]
  },
  {
   "cell_type": "code",
   "execution_count": 17,
   "metadata": {},
   "outputs": [
    {
     "data": {
      "text/plain": [
       "dict_keys(['content', 'date', 'title', 'outboundRequests'])"
      ]
     },
     "execution_count": 17,
     "metadata": {},
     "output_type": "execute_result"
    }
   ],
   "source": [
    "data[article].keys()"
   ]
  },
  {
   "cell_type": "code",
   "execution_count": 13,
   "metadata": {},
   "outputs": [
    {
     "data": {
      "text/plain": [
       "['g1.nyt.com',\n",
       " 'www.nytimes.com',\n",
       " 'static01.nyt.com',\n",
       " 'static.chartbeat.com',\n",
       " 'www.googletagmanager.com',\n",
       " 'a.et.nytimes.com',\n",
       " 'samizdat-graphql.nytimes.com',\n",
       " 'als-svc.nytimes.com',\n",
       " 'rumcdn.geoedge.be',\n",
       " 'c.amazon-adsystem.com',\n",
       " 'myaccount.nytimes.com',\n",
       " 'securepubads.g.doubleclick.net',\n",
       " 'mab.chartbeat.com',\n",
       " 'ib.adnxs.com',\n",
       " 'prebid.media.net',\n",
       " 'tlx.3lift.com',\n",
       " 'nytimes-d.openx.net',\n",
       " 'fastlane.rubiconproject.com',\n",
       " 'sb.scorecardresearch.com',\n",
       " 'dd.nytimes.com',\n",
       " 'meter-svc.nytimes.com',\n",
       " 'a.nytimes.com',\n",
       " 'edge.microsoft.com',\n",
       " 'purr.nytimes.com',\n",
       " 'adservice.google.com',\n",
       " 'www.google-analytics.com',\n",
       " 'tags.bluekai.com',\n",
       " '5290727.fls.doubleclick.net',\n",
       " 'tags.bkrtx.com',\n",
       " 'a1.nyt.com',\n",
       " 'cdn.brandmetrics.com',\n",
       " 'insight.adsrvr.org',\n",
       " 'pagead2.googlesyndication.com',\n",
       " 'e327286fd7334e174b6dd0a51dd35995.safeframe.googlesyndication.com',\n",
       " 'mwcm.nytimes.com',\n",
       " 'tpc.googlesyndication.com',\n",
       " 'pnytimes.chartbeat.net',\n",
       " 'stags.bluekai.com',\n",
       " 'platform.iteratehq.com',\n",
       " 's.amazon-adsystem.com',\n",
       " 'collector.brandmetrics.com',\n",
       " 'cs.media.net',\n",
       " 'dis.criteo.com',\n",
       " 'u.openx.net',\n",
       " 'medianet-match.dotomi.com',\n",
       " 'pm.w55c.net',\n",
       " 'www.google.com',\n",
       " 'eb2.3lift.com',\n",
       " 'x.bidswitch.net',\n",
       " 'iteratehq.com']"
      ]
     },
     "execution_count": 13,
     "metadata": {},
     "output_type": "execute_result"
    }
   ],
   "source": [
    "data[article]['outboundRequests']"
   ]
  },
  {
   "cell_type": "code",
   "execution_count": null,
   "metadata": {},
   "outputs": [],
   "source": []
  }
 ],
 "metadata": {
  "kernelspec": {
   "display_name": "Python 3.9.13 ('env': venv)",
   "language": "python",
   "name": "python3"
  },
  "language_info": {
   "codemirror_mode": {
    "name": "ipython",
    "version": 3
   },
   "file_extension": ".py",
   "mimetype": "text/x-python",
   "name": "python",
   "nbconvert_exporter": "python",
   "pygments_lexer": "ipython3",
   "version": "3.9.13"
  },
  "orig_nbformat": 4,
  "vscode": {
   "interpreter": {
    "hash": "e9a9e12beaeda0461490307ec4ef9a5fdd931464a1d9a53272427629c191d3cf"
   }
  }
 },
 "nbformat": 4,
 "nbformat_minor": 2
}
